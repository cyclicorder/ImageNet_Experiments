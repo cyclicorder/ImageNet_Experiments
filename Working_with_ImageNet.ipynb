{
 "cells": [
  {
   "cell_type": "code",
   "execution_count": 1,
   "metadata": {},
   "outputs": [
    {
     "name": "stdout",
     "output_type": "stream",
     "text": [
      "Requirement already satisfied: transformers in /home/montasir/.local/lib/python3.8/site-packages (4.31.0)\n",
      "Requirement already satisfied: numpy>=1.17 in /usr/lib/python3/dist-packages (from transformers) (1.17.4)\n",
      "Requirement already satisfied: filelock in /usr/lib/python3/dist-packages (from transformers) (3.0.12)\n",
      "Requirement already satisfied: tokenizers!=0.11.3,<0.14,>=0.11.1 in /home/montasir/.local/lib/python3.8/site-packages (from transformers) (0.13.3)\n",
      "Requirement already satisfied: tqdm>=4.27 in /home/montasir/.local/lib/python3.8/site-packages (from transformers) (4.65.0)\n",
      "Requirement already satisfied: requests in /usr/lib/python3/dist-packages (from transformers) (2.22.0)\n",
      "Requirement already satisfied: pyyaml>=5.1 in /usr/lib/python3/dist-packages (from transformers) (5.3.1)\n",
      "Requirement already satisfied: regex!=2019.12.17 in /home/montasir/.local/lib/python3.8/site-packages (from transformers) (2023.6.3)\n",
      "Requirement already satisfied: safetensors>=0.3.1 in /home/montasir/.local/lib/python3.8/site-packages (from transformers) (0.3.1)\n",
      "Requirement already satisfied: packaging>=20.0 in /usr/lib/python3/dist-packages (from transformers) (20.3)\n",
      "Requirement already satisfied: huggingface-hub<1.0,>=0.14.1 in /home/montasir/.local/lib/python3.8/site-packages (from transformers) (0.16.4)\n",
      "Requirement already satisfied: typing-extensions>=3.7.4.3 in /home/montasir/.local/lib/python3.8/site-packages (from huggingface-hub<1.0,>=0.14.1->transformers) (4.7.1)\n",
      "Requirement already satisfied: fsspec in /usr/lib/python3/dist-packages (from huggingface-hub<1.0,>=0.14.1->transformers) (0.6.1)\n",
      "Note: you may need to restart the kernel to use updated packages.\n"
     ]
    }
   ],
   "source": [
    "pip install transformers\n"
   ]
  },
  {
   "cell_type": "code",
   "execution_count": 1,
   "metadata": {},
   "outputs": [],
   "source": [
    "import os\n",
    "import torch\n",
    "from torchvision.datasets import ImageNet\n",
    "from torch.utils.data import DataLoader\n"
   ]
  },
  {
   "cell_type": "code",
   "execution_count": 67,
   "metadata": {},
   "outputs": [],
   "source": [
    "#device=torch.device(\"cuda\" if torch.cuda.is_available() else \"cpu\")\n",
    "device=\"cpu\""
   ]
  },
  {
   "cell_type": "code",
   "execution_count": 2,
   "metadata": {},
   "outputs": [],
   "source": [
    "import torchvision.transforms as transforms\n",
    "from torchvision.datasets import ImageFolder\n",
    "import numpy as np\n",
    "import torch\n",
    "data_transforms = transforms.Compose([\n",
    "    transforms.ToTensor(),\n",
    "    transforms.Resize((224,224)),\n",
    "    #transforms.Normalize(mean=[0.485, 0.456, 0.406], std=[0.229, 0.224, 0.225]),\n",
    "])\n",
    "\n",
    "data_path = '/home/montasir/Desktop/New Experiment/imagenette2/train'\n",
    "\n",
    "full_dataset = ImageFolder(\n",
    "        root=data_path,\n",
    "        transform=data_transforms\n",
    "    )\n",
    "\n",
    "\n"
   ]
  },
  {
   "cell_type": "code",
   "execution_count": 3,
   "metadata": {},
   "outputs": [],
   "source": [
    "# Random selection \n",
    "import random\n",
    "from torch.utils.data import Subset\n",
    "num_images_to_select = 50\n",
    "selected_indices = random.sample(range(len(full_dataset)), num_images_to_select)\n",
    "selected_images= Subset(full_dataset, selected_indices)\n"
   ]
  },
  {
   "cell_type": "code",
   "execution_count": 102,
   "metadata": {},
   "outputs": [
    {
     "data": {
      "text/plain": [
       "torch.Size([3, 224, 224])"
      ]
     },
     "execution_count": 102,
     "metadata": {},
     "output_type": "execute_result"
    }
   ],
   "source": [
    "selected_images[0][0].shape"
   ]
  },
  {
   "cell_type": "code",
   "execution_count": 103,
   "metadata": {},
   "outputs": [],
   "source": [
    "#converting tensor to image\n",
    "from torchvision.transforms import ToPILImage\n",
    "tensor_image = selected_images[0][0]\n",
    "to_pil = ToPILImage()\n",
    "pil_image = to_pil(tensor_image)\n",
    "pil_image.show()\n"
   ]
  },
  {
   "cell_type": "code",
   "execution_count": 4,
   "metadata": {},
   "outputs": [
    {
     "name": "stderr",
     "output_type": "stream",
     "text": [
      "`text_config_dict` is provided which will be used to initialize `CLIPTextConfig`. The value `text_config[\"id2label\"]` will be overriden.\n",
      "`text_config_dict` is provided which will be used to initialize `CLIPTextConfig`. The value `text_config[\"bos_token_id\"]` will be overriden.\n",
      "`text_config_dict` is provided which will be used to initialize `CLIPTextConfig`. The value `text_config[\"eos_token_id\"]` will be overriden.\n"
     ]
    }
   ],
   "source": [
    "import transformers\n",
    "from transformers import CLIPModel,CLIPTokenizer,CLIPProcessor\n",
    "\n",
    "checkpoint= \"laion/CLIP-ViT-H-14-laion2B-s32B-b79K\"\n",
    "tokenizer=CLIPTokenizer.from_pretrained(checkpoint)\n",
    "processor=CLIPProcessor.from_pretrained(checkpoint)\n",
    "model=CLIPModel.from_pretrained(checkpoint)"
   ]
  },
  {
   "cell_type": "code",
   "execution_count": null,
   "metadata": {},
   "outputs": [],
   "source": [
    "model.to(device)"
   ]
  },
  {
   "cell_type": "code",
   "execution_count": 28,
   "metadata": {},
   "outputs": [],
   "source": [
    "model.save_pretrained('saved_vitH14')\n",
    "tokenizer.save_pretrained('saved_vitH14')\n",
    "processor.save_pretrained('saved_vitH14')"
   ]
  },
  {
   "cell_type": "code",
   "execution_count": 5,
   "metadata": {},
   "outputs": [],
   "source": [
    "from torch.utils.data import DataLoader\n",
    "batch_size = 5\n",
    "dataloader = DataLoader(selected_images, batch_size=batch_size, shuffle=True)\n",
    "\n",
    "\n",
    "\n",
    "#all_image_embeddings = torch.cat(all_image_embeddings, dim=0)\n"
   ]
  },
  {
   "cell_type": "code",
   "execution_count": 33,
   "metadata": {},
   "outputs": [
    {
     "data": {
      "text/plain": [
       "<torch.utils.data.dataloader.DataLoader at 0x7f7c169dc880>"
      ]
     },
     "execution_count": 33,
     "metadata": {},
     "output_type": "execute_result"
    }
   ],
   "source": []
  },
  {
   "cell_type": "code",
   "execution_count": 6,
   "metadata": {},
   "outputs": [],
   "source": [
    " all_img_embds=[]\n",
    " for batch_images,batch_labels in dataloader:\n",
    "    inputs=processor(images=batch_images,return_tensors=\"pt\")\n",
    "    input_pixels=inputs['pixel_values']\n",
    "    img_embd= model.get_image_features(pixel_values=input_pixels)\n",
    "    #print(img_embd)\n",
    "    all_img_embds.append(img_embd)\n",
    "\n",
    "\n",
    "\n",
    "\n",
    "            \n",
    "   \n"
   ]
  },
  {
   "cell_type": "code",
   "execution_count": 7,
   "metadata": {},
   "outputs": [
    {
     "name": "stdout",
     "output_type": "stream",
     "text": [
      "Image embeddings saved to /home/montasir/Desktop/New Experiment/image_embeddings_100_random_images.pt\n"
     ]
    }
   ],
   "source": [
    "file_path = \"/home/montasir/Desktop/New Experiment/image_embeddings_100_random_images.pt\"\n",
    "\n",
    "# Concatenate all the embeddings along a new dimension\n",
    "all_img_embds_tensor = torch.stack(all_img_embds, dim=0)\n",
    "\n",
    "# Define the path to the file where you want to save the tensor\n",
    "\n",
    "\n",
    "# Save the tensor to the specified file\n",
    "torch.save(all_img_embds_tensor, file_path)\n",
    "\n",
    "print(\"Image embeddings saved to\", file_path)"
   ]
  },
  {
   "cell_type": "code",
   "execution_count": 73,
   "metadata": {},
   "outputs": [
    {
     "data": {
      "text/plain": [
       "torch.Size([5, 1024])"
      ]
     },
     "execution_count": 73,
     "metadata": {},
     "output_type": "execute_result"
    }
   ],
   "source": [
    "img_embd.shape\n",
    "all_img_embds[0].shape"
   ]
  },
  {
   "cell_type": "code",
   "execution_count": 8,
   "metadata": {},
   "outputs": [
    {
     "name": "stdout",
     "output_type": "stream",
     "text": [
      "Pairwise Cosine Similarities:\n",
      "[[1.         0.83203185 0.8104128  ... 0.8377615  0.8682963  0.85268486]\n",
      " [0.83203185 0.99999964 0.9878831  ... 0.8469484  0.7083597  0.864971  ]\n",
      " [0.8104128  0.9878831  0.99999994 ... 0.83311117 0.6827281  0.84556925]\n",
      " ...\n",
      " [0.8377615  0.8469484  0.83311117 ... 1.         0.7859556  0.8586725 ]\n",
      " [0.8682963  0.7083597  0.6827281  ... 0.7859556  0.99999976 0.8048555 ]\n",
      " [0.85268486 0.864971   0.84556925 ... 0.8586725  0.8048555  1.0000001 ]]\n"
     ]
    }
   ],
   "source": [
    "import torch\n",
    "from sklearn.metrics.pairwise import cosine_similarity\n",
    "image_embeddings_matrix = torch.cat(all_img_embds, dim=0)\n",
    "image_embeddings_array = image_embeddings_matrix.detach().numpy()\n",
    "similarities = cosine_similarity(image_embeddings_array)\n",
    "print(\"Pairwise Cosine Similarities:\")\n",
    "print(similarities)"
   ]
  },
  {
   "cell_type": "code",
   "execution_count": 9,
   "metadata": {},
   "outputs": [
    {
     "data": {
      "text/plain": [
       "0.4459573"
      ]
     },
     "execution_count": 9,
     "metadata": {},
     "output_type": "execute_result"
    }
   ],
   "source": [
    "min(similarities.flatten())"
   ]
  },
  {
   "cell_type": "code",
   "execution_count": 42,
   "metadata": {},
   "outputs": [
    {
     "data": {
      "text/plain": [
       "tensor([[ 0.1832,  0.0736, -0.0474,  ..., -0.7700,  0.4245,  0.1796],\n",
       "        [ 0.2853,  0.0371, -0.1951,  ..., -0.4522, -0.0571,  0.2060],\n",
       "        [ 0.1631,  0.1442, -0.2670,  ..., -0.5044,  0.3119,  0.1579],\n",
       "        ...,\n",
       "        [ 0.1257, -0.1977,  0.1116,  ..., -0.7375, -0.0613,  0.1141],\n",
       "        [ 0.4571, -0.0370,  0.3986,  ..., -0.4942,  0.0142,  0.0479],\n",
       "        [ 0.3289,  0.0656, -0.2882,  ..., -0.5656,  0.6230,  0.1077]],\n",
       "       grad_fn=<CatBackward0>)"
      ]
     },
     "execution_count": 42,
     "metadata": {},
     "output_type": "execute_result"
    }
   ],
   "source": [
    "image_embeddings_matrix\n"
   ]
  },
  {
   "cell_type": "code",
   "execution_count": 12,
   "metadata": {},
   "outputs": [
    {
     "data": {
      "image/png": "[encoded data removed]",
      "text/plain": [
       "<Figure size 576x432 with 1 Axes>"
      ]
     },
     "metadata": {
      "needs_background": "light"
     },
     "output_type": "display_data"
    }
   ],
   "source": [
    "import matplotlib.pyplot as plt\n",
    "\n",
    "plt.figure(figsize=(8, 6))\n",
    "plt.hist(similarities.flatten(),bins=50)\n",
    "plt.xlabel('Cosine Similarity')\n",
    "plt.ylabel('Frequency')\n",
    "plt.title('Distribution of Pairwise Cosine Similarities')\n",
    "plt.grid(True)\n",
    "plt.show()"
   ]
  },
  {
   "cell_type": "code",
   "execution_count": 13,
   "metadata": {},
   "outputs": [
    {
     "data": {
      "image/png": "[encoded data removed]",
      "text/plain": [
       "<Figure size 576x432 with 1 Axes>"
      ]
     },
     "metadata": {
      "needs_background": "light"
     },
     "output_type": "display_data"
    }
   ],
   "source": [
    "import numpy as np\n",
    "similarities=np.round(similarities,4)\n",
    "\n",
    "flattened_similarities = similarities.flatten()\n",
    "flattened_similarities = flattened_similarities[flattened_similarities != 1.0] #removing diagonal elements\n",
    "\n",
    "plt.figure(figsize=(8, 6))\n",
    "plt.hist(flattened_similarities,bins=50)\n",
    "plt.xlabel('Cosine Similarity')\n",
    "plt.ylabel('Frequency')\n",
    "plt.title('Distribution of Pairwise Cosine Similarities (Excluding Diagonal)')\n",
    "plt.grid(True)\n",
    "plt.show()\n"
   ]
  },
  {
   "cell_type": "code",
   "execution_count": 88,
   "metadata": {},
   "outputs": [
    {
     "data": {
      "text/plain": [
       "0.9867"
      ]
     },
     "execution_count": 88,
     "metadata": {},
     "output_type": "execute_result"
    }
   ],
   "source": [
    "max(flattened_similarities)"
   ]
  },
  {
   "cell_type": "code",
   "execution_count": null,
   "metadata": {},
   "outputs": [],
   "source": [
    "mask = np.triu(np.ones(similarities.shape), k=1)  # Mask to exclude diagonal and lower triangle\n",
    "flattened_similarities = similarities[mask == 1]"
   ]
  },
  {
   "cell_type": "code",
   "execution_count": 57,
   "metadata": {},
   "outputs": [
    {
     "data": {
      "text/plain": [
       "tensor([[ 0.3280,  0.3659, -0.1810,  ..., -0.4899,  0.3684,  0.0352],\n",
       "        [ 0.2853,  0.0286,  0.2902,  ..., -0.4856, -0.0264,  0.2667],\n",
       "        [ 0.2686,  0.2021, -0.4456,  ..., -0.7236,  0.5456,  0.0935],\n",
       "        ...,\n",
       "        [ 0.0921, -0.2244, -0.0349,  ..., -0.2817,  0.3925,  0.1247],\n",
       "        [ 0.2701,  0.3929, -0.3485,  ..., -0.2357,  0.2601,  0.0666],\n",
       "        [ 0.2795,  0.0140, -0.2511,  ..., -0.7416,  0.6222,  0.0351]],\n",
       "       grad_fn=<CatBackward0>)"
      ]
     },
     "execution_count": 57,
     "metadata": {},
     "output_type": "execute_result"
    }
   ],
   "source": [
    "image_embeddings_matrix = torch.cat(all_img_embds, dim=0)\n",
    "image_embeddings_matrix"
   ]
  },
  {
   "cell_type": "code",
   "execution_count": 15,
   "metadata": {},
   "outputs": [],
   "source": [
    "from sklearn.metrics.pairwise import cosine_similarity\n",
    "\n",
    "\n",
    "def calculating_cosine_similarities(embeddings):\n",
    "   \n",
    "    image_embeddings_array = embeddings.detach().numpy()\n",
    "    similarities = cosine_similarity(image_embeddings_array)\n",
    "    return similarities\n",
    "    "
   ]
  },
  {
   "cell_type": "code",
   "execution_count": 16,
   "metadata": {},
   "outputs": [
    {
     "name": "stdout",
     "output_type": "stream",
     "text": [
      "[[1.0000005  0.76022214 0.94600046 ... 0.74327457 0.930727   0.94147575]\n",
      " [0.76022214 1.0000002  0.6904698  ... 0.8378971  0.7478713  0.68445814]\n",
      " [0.94600046 0.6904698  1.0000002  ... 0.66923106 0.9137536  0.97883624]\n",
      " ...\n",
      " [0.74327457 0.8378971  0.66923106 ... 1.0000001  0.69810474 0.65517175]\n",
      " [0.930727   0.7478713  0.9137536  ... 0.69810474 1.0000002  0.9117024 ]\n",
      " [0.94147575 0.68445814 0.97883624 ... 0.65517175 0.9117024  1.0000002 ]]\n"
     ]
    }
   ],
   "source": [
    "cos_sim=calculating_cosine_similarities(image_embeddings_matrix)\n",
    "print(cos_sim)"
   ]
  },
  {
   "cell_type": "code",
   "execution_count": 78,
   "metadata": {},
   "outputs": [
    {
     "data": {
      "text/plain": [
       "tensor([[ 0.3334,  0.3713, -0.1756,  ..., -0.4845,  0.3738,  0.0406],\n",
       "        [ 0.2966,  0.0398,  0.3015,  ..., -0.4744, -0.0152,  0.2779],\n",
       "        [ 0.2705,  0.2040, -0.4436,  ..., -0.7217,  0.5475,  0.0954],\n",
       "        ...,\n",
       "        [ 0.0961, -0.2204, -0.0310,  ..., -0.2778,  0.3964,  0.1287],\n",
       "        [ 0.2720,  0.3948, -0.3465,  ..., -0.2338,  0.2620,  0.0685],\n",
       "        [ 0.2797,  0.0142, -0.2509,  ..., -0.7414,  0.6225,  0.0353]],\n",
       "       grad_fn=<SubBackward0>)"
      ]
     },
     "execution_count": 78,
     "metadata": {},
     "output_type": "execute_result"
    }
   ],
   "source": [
    "mean_vector=torch.mean(image_embeddings_matrix,dim=1)\n",
    "mean_vector=mean_vector.reshape(-1,1)\n",
    "normalized_embeddings=image_embeddings_matrix-mean_vector\n",
    "normalized_embeddings"
   ]
  },
  {
   "cell_type": "code",
   "execution_count": 79,
   "metadata": {},
   "outputs": [
    {
     "name": "stdout",
     "output_type": "stream",
     "text": [
      "[[1.0000001  0.76020086 0.9460207  ... 0.7432611  0.9307458  0.9415256 ]\n",
      " [0.76020086 1.0000004  0.6905325  ... 0.8379445  0.7479439  0.6845822 ]\n",
      " [0.9460207  0.6905325  1.0000002  ... 0.6692248  0.91375214 0.97884184]\n",
      " ...\n",
      " [0.7432611  0.8379445  0.6692248  ... 1.         0.6980989  0.65518403]\n",
      " [0.9307458  0.7479439  0.91375214 ... 0.6980989  1.0000002  0.9117078 ]\n",
      " [0.9415256  0.6845822  0.97884184 ... 0.65518403 0.9117078  1.        ]]\n"
     ]
    }
   ],
   "source": [
    "#normalized_cosine_similarity\n",
    "cos_sim_norm=calculating_cosine_similarities(normalized_embeddings)\n",
    "print(cos_sim_norm)"
   ]
  },
  {
   "cell_type": "code",
   "execution_count": 80,
   "metadata": {},
   "outputs": [
    {
     "data": {
      "text/plain": [
       "0.39262182"
      ]
     },
     "execution_count": 80,
     "metadata": {},
     "output_type": "execute_result"
    }
   ],
   "source": [
    "min(cos_sim_norm.flatten())"
   ]
  },
  {
   "cell_type": "code",
   "execution_count": 81,
   "metadata": {},
   "outputs": [],
   "source": [
    "def show_distributions(score):\n",
    "    similarities=np.round(score,4)\n",
    "\n",
    "    flattened_similarities = similarities.flatten()\n",
    "    flattened_similarities = flattened_similarities[flattened_similarities != 1.0000] #removing diagonal elements\n",
    "\n",
    "    plt.figure(figsize=(8, 6))\n",
    "    plt.hist(flattened_similarities,bins=50)\n",
    "    plt.xlabel('Normalized Cosine Similarity')\n",
    "    plt.ylabel('Frequency')\n",
    "    plt.title('Distribution of Normalized Pairwise Cosine Similarities while dim=0')\n",
    "    plt.grid(True)\n",
    "    plt.show()\n",
    "\n",
    "\n",
    "\n"
   ]
  },
  {
   "cell_type": "code",
   "execution_count": 82,
   "metadata": {},
   "outputs": [
    {
     "data": {
      "image/png": "[encoded data removed]",
      "text/plain": [
       "<Figure size 576x432 with 1 Axes>"
      ]
     },
     "metadata": {
      "needs_background": "light"
     },
     "output_type": "display_data"
    }
   ],
   "source": [
    "#normalized_distributions\n",
    "show_distributions(cos_sim_norm)"
   ]
  },
  {
   "cell_type": "code",
   "execution_count": 62,
   "metadata": {},
   "outputs": [
    {
     "name": "stdout",
     "output_type": "stream",
     "text": [
      "tensor([[ 0.5108, -1.7877, -0.8459],\n",
      "        [-0.8026, -0.0094, -0.3568],\n",
      "        [ 0.1120, -1.0091,  0.6086],\n",
      "        [-1.8212,  0.1400,  1.4077]])\n",
      "tensor([-0.7076, -0.3896, -0.0962, -0.0912])\n",
      "tensor([[ 1.2184, -1.0801, -0.1383],\n",
      "        [-0.4130,  0.3802,  0.0328],\n",
      "        [ 0.2082, -0.9130,  0.7048],\n",
      "        [-1.7301,  0.2312,  1.4989]])\n",
      "torch.Size([4, 1])\n"
     ]
    }
   ],
   "source": [
    "a = torch.randn(4, 3)\n",
    "print(a)\n",
    "b=torch.mean(a, 1)\n",
    "print(b)\n",
    "b_reshaped = b.view(-1, 1)\n",
    "diff=a-b_reshaped\n",
    "print(diff)\n",
    "print(b_reshaped.shape)\n"
   ]
  }
 ],
 "metadata": {
  "kernelspec": {
   "display_name": "Python 3",
   "language": "python",
   "name": "python3"
  },
  "language_info": {
   "codemirror_mode": {
    "name": "ipython",
    "version": 3
   },
   "file_extension": ".py",
   "mimetype": "text/x-python",
   "name": "python",
   "nbconvert_exporter": "python",
   "pygments_lexer": "ipython3",
   "version": "3.8.10"
  },
  "orig_nbformat": 4
 },
 "nbformat": 4,
 "nbformat_minor": 2
}
