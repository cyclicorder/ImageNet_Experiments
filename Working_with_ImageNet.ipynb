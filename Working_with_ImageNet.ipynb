{
 "cells": [
  {
   "cell_type": "code",
   "execution_count": 1,
   "metadata": {},
   "outputs": [
    {
     "name": "stdout",
     "output_type": "stream",
     "text": [
      "Requirement already satisfied: transformers in /home/montasir/.local/lib/python3.8/site-packages (4.31.0)\n",
      "Requirement already satisfied: regex!=2019.12.17 in /home/montasir/.local/lib/python3.8/site-packages (from transformers) (2023.6.3)\n",
      "Requirement already satisfied: requests in /usr/lib/python3/dist-packages (from transformers) (2.22.0)\n",
      "Requirement already satisfied: tqdm>=4.27 in /home/montasir/.local/lib/python3.8/site-packages (from transformers) (4.65.0)\n",
      "Requirement already satisfied: pyyaml>=5.1 in /usr/lib/python3/dist-packages (from transformers) (5.3.1)\n",
      "Requirement already satisfied: packaging>=20.0 in /usr/lib/python3/dist-packages (from transformers) (20.3)\n",
      "Requirement already satisfied: filelock in /usr/lib/python3/dist-packages (from transformers) (3.0.12)\n",
      "Requirement already satisfied: tokenizers!=0.11.3,<0.14,>=0.11.1 in /home/montasir/.local/lib/python3.8/site-packages (from transformers) (0.13.3)\n",
      "Requirement already satisfied: safetensors>=0.3.1 in /home/montasir/.local/lib/python3.8/site-packages (from transformers) (0.3.1)\n",
      "Requirement already satisfied: huggingface-hub<1.0,>=0.14.1 in /home/montasir/.local/lib/python3.8/site-packages (from transformers) (0.16.4)\n",
      "Requirement already satisfied: numpy>=1.17 in /usr/lib/python3/dist-packages (from transformers) (1.17.4)\n",
      "Requirement already satisfied: typing-extensions>=3.7.4.3 in /home/montasir/.local/lib/python3.8/site-packages (from huggingface-hub<1.0,>=0.14.1->transformers) (4.7.1)\n",
      "Requirement already satisfied: fsspec in /usr/lib/python3/dist-packages (from huggingface-hub<1.0,>=0.14.1->transformers) (0.6.1)\n",
      "Note: you may need to restart the kernel to use updated packages.\n"
     ]
    }
   ],
   "source": [
    "pip install transformers\n"
   ]
  },
  {
   "cell_type": "code",
   "execution_count": 2,
   "metadata": {},
   "outputs": [],
   "source": [
    "import os\n",
    "import torch\n",
    "from torchvision.datasets import ImageNet\n",
    "from torch.utils.data import DataLoader\n"
   ]
  },
  {
   "cell_type": "code",
   "execution_count": 67,
   "metadata": {},
   "outputs": [],
   "source": [
    "#device=torch.device(\"cuda\" if torch.cuda.is_available() else \"cpu\")\n",
    "device=\"cpu\""
   ]
  },
  {
   "cell_type": "code",
   "execution_count": 3,
   "metadata": {},
   "outputs": [],
   "source": [
    "import torchvision.transforms as transforms\n",
    "from torchvision.datasets import ImageFolder\n",
    "import numpy as np\n",
    "import torch\n",
    "data_transforms = transforms.Compose([\n",
    "    transforms.ToTensor(),\n",
    "    transforms.Resize((224,224)),\n",
    "    #transforms.Normalize(mean=[0.485, 0.456, 0.406], std=[0.229, 0.224, 0.225]),\n",
    "])\n",
    "\n",
    "data_path = '/home/montasir/Desktop/New Experiment/imagenette2/train'\n",
    "\n",
    "full_dataset = ImageFolder(\n",
    "        root=data_path,\n",
    "        transform=data_transforms\n",
    "    )\n",
    "\n",
    "\n"
   ]
  },
  {
   "cell_type": "code",
   "execution_count": 4,
   "metadata": {},
   "outputs": [],
   "source": [
    "#for selecting 50 images from a particular class\n",
    "import random\n",
    "from torch.utils.data import Subset\n",
    "\n",
    "selected_class = 'n03888257'  #parachute class\n",
    "selected_indices = []\n",
    "for i in range(len(full_dataset)):\n",
    "    if full_dataset.targets[i] == full_dataset.class_to_idx[selected_class]:\n",
    "        selected_indices.append(i)\n",
    "\n",
    "if len(selected_indices) >= 20:  #selecting 100 images from the kites class\n",
    "    selected_indices = random.sample(selected_indices, 20)\n",
    "else:\n",
    "    print(f\"Warning: There are fewer than 100 images available for class '{selected_class}'.\")\n",
    "\n",
    "selected_images = Subset(full_dataset, selected_indices)"
   ]
  },
  {
   "cell_type": "markdown",
   "metadata": {},
   "source": [
    "Selecting Single image from all classes"
   ]
  },
  {
   "cell_type": "code",
   "execution_count": 22,
   "metadata": {},
   "outputs": [],
   "source": [
    "#for selecting single images from all the classes\n",
    "class_indices = {}\n",
    "for idx, (image, label) in enumerate(full_dataset):\n",
    "    if label not in class_indices:\n",
    "        class_indices[label] = []\n",
    "    class_indices[label].append(idx)\n"
   ]
  },
  {
   "cell_type": "code",
   "execution_count": 23,
   "metadata": {},
   "outputs": [],
   "source": [
    "#for selecting single images from all the classes\n",
    "selected_indices = []\n",
    "for label in class_indices:\n",
    "    selected_indices.append(class_indices[label][10])\n",
    "selected_images = Subset(full_dataset, selected_indices)\n"
   ]
  },
  {
   "cell_type": "code",
   "execution_count": 3,
   "metadata": {},
   "outputs": [],
   "source": [
    "# Random selection \n",
    "import random\n",
    "from torch.utils.data import Subset\n",
    "num_images_to_select = 50\n",
    "selected_indices = random.sample(range(len(full_dataset)), num_images_to_select)\n",
    "selected_images= Subset(full_dataset, selected_indices)\n"
   ]
  },
  {
   "cell_type": "code",
   "execution_count": 105,
   "metadata": {},
   "outputs": [],
   "source": [
    "#converting tensor to image\n",
    "#Checking of image\n",
    "from torchvision.transforms import ToPILImage\n",
    "tensor_image = selected_images[9][0]\n",
    "to_pil = ToPILImage()\n",
    "pil_image = to_pil(tensor_image)\n",
    "pil_image.show()\n"
   ]
  },
  {
   "cell_type": "code",
   "execution_count": 5,
   "metadata": {},
   "outputs": [
    {
     "name": "stderr",
     "output_type": "stream",
     "text": [
      "`text_config_dict` is provided which will be used to initialize `CLIPTextConfig`. The value `text_config[\"id2label\"]` will be overriden.\n",
      "`text_config_dict` is provided which will be used to initialize `CLIPTextConfig`. The value `text_config[\"bos_token_id\"]` will be overriden.\n",
      "`text_config_dict` is provided which will be used to initialize `CLIPTextConfig`. The value `text_config[\"eos_token_id\"]` will be overriden.\n"
     ]
    }
   ],
   "source": [
    "import transformers\n",
    "from transformers import CLIPModel,CLIPTokenizer,CLIPProcessor\n",
    "\n",
    "checkpoint= \"laion/CLIP-ViT-H-14-laion2B-s32B-b79K\"\n",
    "tokenizer=CLIPTokenizer.from_pretrained(checkpoint)\n",
    "processor=CLIPProcessor.from_pretrained(checkpoint)\n",
    "model=CLIPModel.from_pretrained(checkpoint)"
   ]
  },
  {
   "cell_type": "code",
   "execution_count": null,
   "metadata": {},
   "outputs": [],
   "source": [
    "model.to(device)"
   ]
  },
  {
   "cell_type": "code",
   "execution_count": 28,
   "metadata": {},
   "outputs": [],
   "source": [
    "model.save_pretrained('saved_vitH14')\n",
    "tokenizer.save_pretrained('saved_vitH14')\n",
    "processor.save_pretrained('saved_vitH14')"
   ]
  },
  {
   "cell_type": "code",
   "execution_count": 24,
   "metadata": {},
   "outputs": [],
   "source": [
    "from torch.utils.data import DataLoader\n",
    "batch_size = 5\n",
    "dataloader = DataLoader(selected_images, batch_size=batch_size)\n",
    "\n"
   ]
  },
  {
   "cell_type": "code",
   "execution_count": 8,
   "metadata": {},
   "outputs": [
    {
     "name": "stdout",
     "output_type": "stream",
     "text": [
      "Batch Images:\n",
      "torch.Size([3, 224, 224])\n",
      "Batch Labels:\n",
      "tensor(9)\n",
      "Batch Images:\n",
      "torch.Size([3, 224, 224])\n",
      "Batch Labels:\n",
      "tensor(9)\n",
      "Batch Images:\n",
      "torch.Size([3, 224, 224])\n",
      "Batch Labels:\n",
      "tensor(9)\n",
      "Batch Images:\n",
      "torch.Size([3, 224, 224])\n",
      "Batch Labels:\n",
      "tensor(9)\n"
     ]
    }
   ],
   "source": [
    "\n",
    "for batch_images, batch_labels in dataloader:\n",
    "    print(\"Batch Images:\")\n",
    "    print(batch_images[0].shape)\n",
    "    print(\"Batch Labels:\")\n",
    "    print(batch_labels[0])\n",
    "\n",
    "\n",
    "  "
   ]
  },
  {
   "cell_type": "code",
   "execution_count": 25,
   "metadata": {},
   "outputs": [
    {
     "name": "stdout",
     "output_type": "stream",
     "text": [
      "torch.Size([3, 224, 224])\n",
      "torch.Size([3, 224, 224])\n",
      "torch.Size([3, 224, 224])\n",
      "torch.Size([3, 224, 224])\n",
      "torch.Size([3, 224, 224])\n",
      "torch.Size([3, 224, 224])\n",
      "torch.Size([3, 224, 224])\n",
      "torch.Size([3, 224, 224])\n",
      "torch.Size([3, 224, 224])\n",
      "torch.Size([3, 224, 224])\n"
     ]
    }
   ],
   "source": [
    "all_img_embds = []  #final embedding list having all batches of images\n",
    "for batch_images, batch_labels in dataloader:\n",
    "    batch_embds = []  #for current batches\n",
    "    for i in range(len(batch_images)):\n",
    "        image = batch_images[i]  \n",
    "        print(image.shape)\n",
    "\n",
    "        # Process the individual image\n",
    "        #inputs = processor(images=image.unsqueeze(0), return_tensors=\"pt\")  # Convert to a batch of size 1\n",
    "        input_pixels = image.unsqueeze(0)\n",
    "        img_embd = model.get_image_features(pixel_values=input_pixels)\n",
    "        batch_embds.append(img_embd)\n",
    "        \n",
    "    all_img_embds.append(batch_embds)\n",
    "\n",
    "\n"
   ]
  },
  {
   "cell_type": "code",
   "execution_count": 26,
   "metadata": {},
   "outputs": [],
   "source": [
    "all_img_embds_combined = []\n",
    "\n",
    "for x in all_img_embds:\n",
    "    for embd in x:\n",
    "        all_img_embds_combined.append(embd)\n"
   ]
  },
  {
   "cell_type": "code",
   "execution_count": 74,
   "metadata": {},
   "outputs": [],
   "source": [
    " \n",
    " '''Wrong Implementation'''\n",
    " '''\n",
    " \n",
    " all_img_embds=[]\n",
    " for batch_images,batch_labels in dataloader:\n",
    "    #inputs=processor(images=batch_images,return_tensors=\"pt\")\n",
    "    input_pixels=inputs['pixel_values']\n",
    "    img_embd= model.get_image_features(pixel_values=input_pixels)\n",
    "    #print(img_embd)\n",
    "    all_img_embds.append(img_embd)\n",
    "\n",
    "\n",
    "\n",
    "\n",
    "            \n",
    "  '''' \n"
   ]
  },
  {
   "cell_type": "code",
   "execution_count": 7,
   "metadata": {},
   "outputs": [
    {
     "name": "stdout",
     "output_type": "stream",
     "text": [
      "Image embeddings saved to /home/montasir/Desktop/New Experiment/image_embeddings_100_random_images.pt\n"
     ]
    }
   ],
   "source": [
    "file_path = \"/home/montasir/Desktop/New Experiment/image_embeddings_100_random_images.pt\"\n",
    "\n",
    "# Concatenate all the embeddings along a new dimension\n",
    "all_img_embds_tensor = torch.stack(all_img_embds, dim=0)\n",
    "\n",
    "\n",
    "# Save the tensor to the specified file\n",
    "torch.save(all_img_embds_tensor, file_path)\n",
    "\n",
    "print(\"Image embeddings saved to\", file_path)"
   ]
  },
  {
   "cell_type": "code",
   "execution_count": 27,
   "metadata": {},
   "outputs": [
    {
     "name": "stdout",
     "output_type": "stream",
     "text": [
      "[[1.0000004  0.50513285 0.32181546 0.33683667 0.26859143 0.3637434\n",
      "  0.34985128 0.37156555 0.32449746 0.3705426 ]\n",
      " [0.50513285 1.0000001  0.37144867 0.36479655 0.33583155 0.44327623\n",
      "  0.41281858 0.4399389  0.36780924 0.42528665]\n",
      " [0.32181546 0.37144867 1.         0.44384307 0.34886917 0.51368225\n",
      "  0.37252724 0.4715109  0.3346917  0.39113897]\n",
      " [0.33683667 0.36479655 0.44384307 0.99999994 0.28461388 0.4468385\n",
      "  0.35966823 0.52289224 0.29423252 0.39951724]\n",
      " [0.26859143 0.33583155 0.34886917 0.28461388 1.0000002  0.34619468\n",
      "  0.36251083 0.45657083 0.24948242 0.32962203]\n",
      " [0.3637434  0.44327623 0.51368225 0.4468385  0.34619468 1.0000002\n",
      "  0.41176274 0.4943041  0.3426552  0.4593567 ]\n",
      " [0.34985128 0.41281858 0.37252724 0.35966823 0.36251083 0.41176274\n",
      "  1.0000002  0.53429866 0.37932208 0.37208283]\n",
      " [0.37156555 0.4399389  0.4715109  0.52289224 0.45657083 0.4943041\n",
      "  0.53429866 1.0000002  0.41256654 0.44647092]\n",
      " [0.32449746 0.36780924 0.3346917  0.29423252 0.24948242 0.3426552\n",
      "  0.37932208 0.41256654 1.0000005  0.48272082]\n",
      " [0.3705426  0.42528665 0.39113897 0.39951724 0.32962203 0.4593567\n",
      "  0.37208283 0.44647092 0.48272082 1.        ]]\n"
     ]
    }
   ],
   "source": [
    "import numpy as np\n",
    "from sklearn.metrics.pairwise import cosine_similarity\n",
    "\n",
    "flattened_embds = []\n",
    "\n",
    "for embd in all_img_embds_combined:\n",
    "    flattened_embd = embd.squeeze().detach().numpy()\n",
    "    flattened_embds.append(flattened_embd)\n",
    "\n",
    "img_embds_array = np.array(flattened_embds)\n",
    "\n",
    "similarities = cosine_similarity(img_embds_array)\n",
    "print(similarities)\n",
    "\n"
   ]
  },
  {
   "cell_type": "code",
   "execution_count": 20,
   "metadata": {},
   "outputs": [
    {
     "data": {
      "text/plain": [
       "array([0.99999976, 0.65833277, 0.6661346 , 0.6631496 , 0.688945  ,\n",
       "       0.63736045, 0.63213843, 0.5748933 , 0.5373297 , 0.62156105,\n",
       "       0.67455465, 0.64933413, 0.62880564, 0.43906605, 0.6543019 ,\n",
       "       0.62376505, 0.56665015, 0.5472773 , 0.6072678 , 0.6915779 ,\n",
       "       0.65833277, 1.        , 0.7527425 , 0.7613249 , 0.7377789 ,\n",
       "       0.7802908 , 0.7183816 , 0.55812794, 0.6028268 , 0.6713939 ,\n",
       "       0.6068784 , 0.8882499 , 0.74330014, 0.56153077, 0.73189485,\n",
       "       0.8641437 , 0.59689945, 0.63658893, 0.60982925, 0.7897819 ,\n",
       "       0.6661346 , 0.7527425 , 1.0000004 , 0.73972964, 0.80773586,\n",
       "       0.77197665, 0.69783944, 0.4935656 , 0.65692025, 0.70949286,\n",
       "       0.6851091 , 0.82081294, 0.7719741 , 0.5464368 , 0.79012173,\n",
       "       0.8201846 , 0.5545456 , 0.69677716, 0.6970586 , 0.7864441 ,\n",
       "       0.6631496 , 0.7613249 , 0.73972964, 1.0000001 , 0.70492154,\n",
       "       0.7600362 , 0.6890616 , 0.5496617 , 0.6325447 , 0.59191066,\n",
       "       0.63325435, 0.7618391 , 0.73520684, 0.4839989 , 0.728175  ,\n",
       "       0.82284486, 0.5995744 , 0.6597902 , 0.6413396 , 0.71785754,\n",
       "       0.688945  , 0.7377789 , 0.80773586, 0.70492154, 0.99999994,\n",
       "       0.6997088 , 0.6693126 , 0.5476609 , 0.6180347 , 0.70713294,\n",
       "       0.68639815, 0.74976397, 0.70385134, 0.5011426 , 0.7364601 ,\n",
       "       0.748972  , 0.50718516, 0.62926537, 0.65991294, 0.76334137,\n",
       "       0.63736045, 0.7802908 , 0.77197665, 0.7600362 , 0.6997088 ,\n",
       "       1.        , 0.7439583 , 0.48453024, 0.62343144, 0.60258156,\n",
       "       0.6088498 , 0.79176074, 0.69278985, 0.49629214, 0.8087833 ,\n",
       "       0.77778894, 0.5476169 , 0.6231832 , 0.66428494, 0.71260774,\n",
       "       0.63213843, 0.7183816 , 0.69783944, 0.6890616 , 0.6693126 ,\n",
       "       0.7439583 , 1.0000001 , 0.48086235, 0.6395285 , 0.60077363,\n",
       "       0.6007862 , 0.7228051 , 0.5649733 , 0.4426375 , 0.7872424 ,\n",
       "       0.6634935 , 0.6900848 , 0.60275424, 0.6405638 , 0.6916413 ,\n",
       "       0.5748933 , 0.55812794, 0.4935656 , 0.5496617 , 0.5476609 ,\n",
       "       0.48453024, 0.48086235, 1.0000001 , 0.40701318, 0.5238858 ,\n",
       "       0.574249  , 0.5513057 , 0.5104652 , 0.5734175 , 0.4993524 ,\n",
       "       0.52843314, 0.45369485, 0.39464688, 0.44882423, 0.5473966 ,\n",
       "       0.5373297 , 0.6028268 , 0.65692025, 0.6325447 , 0.6180347 ,\n",
       "       0.62343144, 0.6395285 , 0.40701318, 0.9999999 , 0.5237873 ,\n",
       "       0.50811803, 0.6162959 , 0.58295465, 0.4602784 , 0.63622206,\n",
       "       0.63667744, 0.56497115, 0.6528001 , 0.6101701 , 0.6130948 ,\n",
       "       0.62156105, 0.6713939 , 0.70949286, 0.59191066, 0.70713294,\n",
       "       0.60258156, 0.60077363, 0.5238858 , 0.5237873 , 1.0000001 ,\n",
       "       0.6098685 , 0.6682152 , 0.62763655, 0.47858152, 0.61171454,\n",
       "       0.6482912 , 0.46326464, 0.5335603 , 0.55969733, 0.667982  ,\n",
       "       0.67455465, 0.6068784 , 0.6851091 , 0.63325435, 0.68639815,\n",
       "       0.6088498 , 0.6007862 , 0.574249  , 0.50811803, 0.6098685 ,\n",
       "       1.0000001 , 0.65679073, 0.59752136, 0.46913987, 0.66499966,\n",
       "       0.6328292 , 0.45981312, 0.5360747 , 0.6607078 , 0.615658  ,\n",
       "       0.64933413, 0.8882499 , 0.82081294, 0.7618391 , 0.74976397,\n",
       "       0.79176074, 0.7228051 , 0.5513057 , 0.6162959 , 0.6682152 ,\n",
       "       0.65679073, 1.        , 0.7662872 , 0.6413655 , 0.7588375 ,\n",
       "       0.8868505 , 0.61656755, 0.67005354, 0.63875276, 0.7622746 ,\n",
       "       0.62880564, 0.74330014, 0.7719741 , 0.73520684, 0.70385134,\n",
       "       0.69278985, 0.5649733 , 0.5104652 , 0.58295465, 0.62763655,\n",
       "       0.59752136, 0.7662872 , 1.0000002 , 0.50901496, 0.6643754 ,\n",
       "       0.78645235, 0.5424553 , 0.59534675, 0.62875175, 0.7065452 ,\n",
       "       0.43906605, 0.56153077, 0.5464368 , 0.4839989 , 0.5011426 ,\n",
       "       0.49629214, 0.4426375 , 0.5734175 , 0.4602784 , 0.47858152,\n",
       "       0.46913987, 0.6413655 , 0.50901496, 1.0000002 , 0.4882791 ,\n",
       "       0.59049994, 0.35894892, 0.4452183 , 0.4354925 , 0.5332475 ,\n",
       "       0.6543019 , 0.73189485, 0.79012173, 0.728175  , 0.7364601 ,\n",
       "       0.8087833 , 0.7872424 , 0.4993524 , 0.63622206, 0.61171454,\n",
       "       0.66499966, 0.7588375 , 0.6643754 , 0.4882791 , 1.0000001 ,\n",
       "       0.72594076, 0.5933054 , 0.6722847 , 0.6766371 , 0.749048  ,\n",
       "       0.62376505, 0.8641437 , 0.8201846 , 0.82284486, 0.748972  ,\n",
       "       0.77778894, 0.6634935 , 0.52843314, 0.63667744, 0.6482912 ,\n",
       "       0.6328292 , 0.8868505 , 0.78645235, 0.59049994, 0.72594076,\n",
       "       1.0000001 , 0.5792941 , 0.66486526, 0.64356   , 0.7429282 ,\n",
       "       0.56665015, 0.59689945, 0.5545456 , 0.5995744 , 0.50718516,\n",
       "       0.5476169 , 0.6900848 , 0.45369485, 0.56497115, 0.46326464,\n",
       "       0.45981312, 0.61656755, 0.5424553 , 0.35894892, 0.5933054 ,\n",
       "       0.5792941 , 0.9999997 , 0.5219487 , 0.5575315 , 0.6032527 ,\n",
       "       0.5472773 , 0.63658893, 0.69677716, 0.6597902 , 0.62926537,\n",
       "       0.6231832 , 0.60275424, 0.39464688, 0.6528001 , 0.5335603 ,\n",
       "       0.5360747 , 0.67005354, 0.59534675, 0.4452183 , 0.6722847 ,\n",
       "       0.66486526, 0.5219487 , 1.0000001 , 0.5702228 , 0.65115273,\n",
       "       0.6072678 , 0.60982925, 0.6970586 , 0.6413396 , 0.65991294,\n",
       "       0.66428494, 0.6405638 , 0.44882423, 0.6101701 , 0.55969733,\n",
       "       0.6607078 , 0.63875276, 0.62875175, 0.4354925 , 0.6766371 ,\n",
       "       0.64356   , 0.5575315 , 0.5702228 , 1.0000001 , 0.6214209 ,\n",
       "       0.6915779 , 0.7897819 , 0.7864441 , 0.71785754, 0.76334137,\n",
       "       0.71260774, 0.6916413 , 0.5473966 , 0.6130948 , 0.667982  ,\n",
       "       0.615658  , 0.7622746 , 0.7065452 , 0.5332475 , 0.749048  ,\n",
       "       0.7429282 , 0.6032527 , 0.65115273, 0.6214209 , 1.0000004 ],\n",
       "      dtype=float32)"
      ]
     },
     "execution_count": 20,
     "metadata": {},
     "output_type": "execute_result"
    }
   ],
   "source": [
    "similarities.flatten()"
   ]
  },
  {
   "cell_type": "code",
   "execution_count": 28,
   "metadata": {},
   "outputs": [
    {
     "name": "stdout",
     "output_type": "stream",
     "text": [
      "Similarity between parachute class and n01440764: 0.3705\n",
      "Similarity between parachute class and n02102040: 0.4253\n",
      "Similarity between parachute class and n02979186: 0.3911\n",
      "Similarity between parachute class and n03000684: 0.3995\n",
      "Similarity between parachute class and n03028079: 0.3296\n",
      "Similarity between parachute class and n03394916: 0.4594\n",
      "Similarity between parachute class and n03417042: 0.3721\n",
      "Similarity between parachute class and n03425413: 0.4465\n",
      "Similarity between parachute class and n03445777: 0.4827\n"
     ]
    }
   ],
   "source": [
    "import torch.nn.functional as F\n",
    "class_names=full_dataset.classes\n",
    "parachute_class_index= class_names.index('n03888257')\n",
    "parachute_class_embeddings=img_embds_array[parachute_class_index]\n",
    "\n",
    "similarities = cosine_similarity([parachute_class_embeddings], img_embds_array)\n",
    "\n",
    "for i, similarity in enumerate(similarities[0]):\n",
    "    if i != parachute_class_index:\n",
    "        class_name_i = class_names[i]\n",
    "        print(f\"Similarity between parachute class and {class_name_i}: {similarity:.4f}\")"
   ]
  },
  {
   "cell_type": "code",
   "execution_count": 29,
   "metadata": {},
   "outputs": [
    {
     "data": {
      "text/plain": [
       "0.3296222"
      ]
     },
     "execution_count": 29,
     "metadata": {},
     "output_type": "execute_result"
    }
   ],
   "source": [
    "min(similarities[0])"
   ]
  },
  {
   "cell_type": "code",
   "execution_count": 31,
   "metadata": {},
   "outputs": [
    {
     "data": {
      "image/png": "[encoded data removed]",
      "text/plain": [
       "<Figure size 720x432 with 1 Axes>"
      ]
     },
     "metadata": {
      "needs_background": "light"
     },
     "output_type": "display_data"
    }
   ],
   "source": [
    "#for single images\n",
    "import matplotlib.pyplot as plt\n",
    "\n",
    "plt.figure(figsize=(10, 6))\n",
    "plt.hist(similarities[0],bins=50,alpha=0.7, color='blue')\n",
    "plt.xlabel('Cosine Similarity')\n",
    "plt.ylabel('Frequency')\n",
    "plt.title('Cosine Similarity Distribution between a single image of Parachute Class and other classes image')\n",
    "#plt.legend()\n",
    "plt.show()"
   ]
  },
  {
   "cell_type": "code",
   "execution_count": 14,
   "metadata": {},
   "outputs": [
    {
     "name": "stdout",
     "output_type": "stream",
     "text": [
      "Similarity between n01440764 and n02102040: 0.9689\n",
      "Similarity between n01440764 and n02979186: 0.9016\n",
      "Similarity between n01440764 and n03000684: 0.6106\n",
      "Similarity between n01440764 and n03028079: 0.9551\n",
      "Similarity between n01440764 and n03394916: 0.8195\n",
      "Similarity between n01440764 and n03417042: 0.9011\n",
      "Similarity between n01440764 and n03425413: 0.9047\n",
      "Similarity between n01440764 and n03445777: 0.5922\n",
      "Similarity between n01440764 and n03888257: 0.8704\n",
      "Similarity between n02102040 and n02979186: 0.9163\n",
      "Similarity between n02102040 and n03000684: 0.6409\n",
      "Similarity between n02102040 and n03028079: 0.9466\n",
      "Similarity between n02102040 and n03394916: 0.8388\n",
      "Similarity between n02102040 and n03417042: 0.9227\n",
      "Similarity between n02102040 and n03425413: 0.9231\n",
      "Similarity between n02102040 and n03445777: 0.6105\n",
      "Similarity between n02102040 and n03888257: 0.9033\n",
      "Similarity between n02979186 and n03000684: 0.7571\n",
      "Similarity between n02979186 and n03028079: 0.9272\n",
      "Similarity between n02979186 and n03394916: 0.8707\n",
      "Similarity between n02979186 and n03417042: 0.9521\n",
      "Similarity between n02979186 and n03425413: 0.9133\n",
      "Similarity between n02979186 and n03445777: 0.7061\n",
      "Similarity between n02979186 and n03888257: 0.8968\n",
      "Similarity between n03000684 and n03028079: 0.6885\n",
      "Similarity between n03000684 and n03394916: 0.7372\n",
      "Similarity between n03000684 and n03417042: 0.7194\n",
      "Similarity between n03000684 and n03425413: 0.7106\n",
      "Similarity between n03000684 and n03445777: 0.6360\n",
      "Similarity between n03000684 and n03888257: 0.6905\n",
      "Similarity between n03028079 and n03394916: 0.8927\n",
      "Similarity between n03028079 and n03417042: 0.9266\n",
      "Similarity between n03028079 and n03425413: 0.9510\n",
      "Similarity between n03028079 and n03445777: 0.6648\n",
      "Similarity between n03028079 and n03888257: 0.9059\n",
      "Similarity between n03394916 and n03417042: 0.8715\n",
      "Similarity between n03394916 and n03425413: 0.9232\n",
      "Similarity between n03394916 and n03445777: 0.7140\n",
      "Similarity between n03394916 and n03888257: 0.8900\n",
      "Similarity between n03417042 and n03425413: 0.9198\n",
      "Similarity between n03417042 and n03445777: 0.6836\n",
      "Similarity between n03417042 and n03888257: 0.9122\n",
      "Similarity between n03425413 and n03445777: 0.7001\n",
      "Similarity between n03425413 and n03888257: 0.9111\n",
      "Similarity between n03445777 and n03888257: 0.6811\n"
     ]
    }
   ],
   "source": [
    "class_names = full_dataset.classes\n",
    "import torch\n",
    "from sklearn.metrics.pairwise import cosine_similarity\n",
    "image_embeddings_matrix = torch.cat(all_img_embds, dim=0)\n",
    "image_embeddings_array = image_embeddings_matrix.detach().numpy()\n",
    "similarities = cosine_similarity(image_embeddings_array)\n",
    "for i in range(len(similarities)):\n",
    "    for j in range(i+1, len(similarities)):\n",
    "        similarity = similarities[i][j]\n",
    "        class_name_i = class_names[i]\n",
    "        class_name_j = class_names[j]\n",
    "        print(f\"Similarity between {class_name_i} and {class_name_j}: {similarity:.4f}\")"
   ]
  },
  {
   "cell_type": "code",
   "execution_count": 219,
   "metadata": {},
   "outputs": [
    {
     "data": {
      "text/plain": [
       "0.3296222"
      ]
     },
     "execution_count": 219,
     "metadata": {},
     "output_type": "execute_result"
    }
   ],
   "source": [
    "min(similarities.flatten())"
   ]
  },
  {
   "cell_type": "code",
   "execution_count": 19,
   "metadata": {},
   "outputs": [
    {
     "data": {
      "text/plain": [
       "tensor([[ 0.3094,  0.2458, -0.3469,  ..., -0.5894,  0.4331,  0.0313],\n",
       "        [ 0.0749,  0.0133,  0.0185,  ..., -0.4689,  0.0945,  0.2876],\n",
       "        [ 0.3079,  0.0987, -0.3476,  ..., -0.6532,  0.5455,  0.0268],\n",
       "        ...,\n",
       "        [ 0.4124,  0.1638, -0.2354,  ..., -0.3524,  0.1975,  0.2465],\n",
       "        [ 0.2902,  0.2584, -0.4053,  ..., -0.2794,  0.2147,  0.1335],\n",
       "        [ 0.4770,  0.1286, -0.0528,  ..., -0.6504,  0.5659, -0.0580]],\n",
       "       grad_fn=<CatBackward0>)"
      ]
     },
     "execution_count": 19,
     "metadata": {},
     "output_type": "execute_result"
    }
   ],
   "source": [
    "image_embeddings_matrix\n"
   ]
  },
  {
   "cell_type": "code",
   "execution_count": 21,
   "metadata": {},
   "outputs": [
    {
     "data": {
      "image/png": "[encoded data removed]",
      "text/plain": [
       "<Figure size 576x432 with 1 Axes>"
      ]
     },
     "metadata": {
      "needs_background": "light"
     },
     "output_type": "display_data"
    }
   ],
   "source": [
    "import numpy as np\n",
    "import matplotlib.pyplot as plt\n",
    "similarities=np.round(similarities,4)\n",
    "\n",
    "flattened_similarities = similarities.flatten()\n",
    "flattened_similarities = flattened_similarities[flattened_similarities != 1.0000] #removing diagonal elements\n",
    "\n",
    "plt.figure(figsize=(8, 6))\n",
    "plt.hist(flattened_similarities,bins=50)\n",
    "plt.xlabel('Cosine Similarity')\n",
    "plt.ylabel('Frequency')\n",
    "plt.title('Distribution of Pairwise Cosine Similarities (Excluding Diagonal)')\n",
    "plt.grid(True)\n",
    "plt.show()\n"
   ]
  },
  {
   "cell_type": "code",
   "execution_count": 34,
   "metadata": {},
   "outputs": [
    {
     "data": {
      "text/plain": [
       "0.8882"
      ]
     },
     "execution_count": 34,
     "metadata": {},
     "output_type": "execute_result"
    }
   ],
   "source": [
    "max(flattened_similarities)"
   ]
  },
  {
   "cell_type": "code",
   "execution_count": 17,
   "metadata": {},
   "outputs": [
    {
     "data": {
      "text/plain": [
       "tensor([[ 0.3491,  0.0556, -0.2880,  ..., -0.6221,  0.6633, -0.0356],\n",
       "        [ 0.2156,  0.2027, -0.2616,  ..., -0.6804,  0.6071, -0.0644],\n",
       "        [ 0.4401, -0.0587, -0.0802,  ..., -0.6848,  0.4497,  0.1071],\n",
       "        ...,\n",
       "        [ 0.3205, -0.0069, -0.1971,  ..., -0.4775,  0.3446,  0.1413],\n",
       "        [ 0.1355, -0.1004,  0.5898,  ..., -0.2151, -0.4568, -0.0150],\n",
       "        [ 0.3973,  0.2848, -0.0666,  ..., -0.5902,  0.0263, -0.0850]],\n",
       "       grad_fn=<CatBackward0>)"
      ]
     },
     "execution_count": 17,
     "metadata": {},
     "output_type": "execute_result"
    }
   ],
   "source": [
    "image_embeddings_matrix = torch.cat(all_img_embds, dim=0)\n",
    "image_embeddings_matrix"
   ]
  },
  {
   "cell_type": "code",
   "execution_count": 19,
   "metadata": {},
   "outputs": [],
   "source": [
    "from sklearn.metrics.pairwise import cosine_similarity\n",
    "\n",
    "\n",
    "def calculating_cosine_similarities(embeddings):\n",
    "   \n",
    "    image_embeddings_array = embeddings.detach().numpy()\n",
    "    similarities = cosine_similarity(image_embeddings_array)\n",
    "    return similarities\n",
    "    "
   ]
  },
  {
   "cell_type": "code",
   "execution_count": 20,
   "metadata": {},
   "outputs": [
    {
     "name": "stdout",
     "output_type": "stream",
     "text": [
      "[[1.0000002  0.96892124 0.9016295  0.61063135 0.9550816  0.8194906\n",
      "  0.9010563  0.90473366 0.5921674  0.87041175]\n",
      " [0.96892124 1.0000002  0.91625524 0.6409216  0.9466369  0.83882153\n",
      "  0.9226897  0.9230794  0.61053836 0.90329564]\n",
      " [0.9016295  0.91625524 1.0000001  0.75709367 0.9272368  0.870682\n",
      "  0.9520684  0.91331166 0.70614475 0.896831  ]\n",
      " [0.61063135 0.6409216  0.75709367 0.9999999  0.68846524 0.7372068\n",
      "  0.7193649  0.71064395 0.63595814 0.6905483 ]\n",
      " [0.9550816  0.9466369  0.9272368  0.68846524 1.0000005  0.8927006\n",
      "  0.9265893  0.9509785  0.6648353  0.90587765]\n",
      " [0.8194906  0.83882153 0.870682   0.7372068  0.8927006  1.0000004\n",
      "  0.87154543 0.9231646  0.7139759  0.8900227 ]\n",
      " [0.9010563  0.9226897  0.9520684  0.7193649  0.9265893  0.87154543\n",
      "  0.9999999  0.9197585  0.68362826 0.9121522 ]\n",
      " [0.90473366 0.9230794  0.91331166 0.71064395 0.9509785  0.9231646\n",
      "  0.9197585  1.0000004  0.7001305  0.9110748 ]\n",
      " [0.5921674  0.61053836 0.70614475 0.63595814 0.6648353  0.7139759\n",
      "  0.68362826 0.7001305  0.99999976 0.6810691 ]\n",
      " [0.87041175 0.90329564 0.896831   0.6905483  0.90587765 0.8900227\n",
      "  0.9121522  0.9110748  0.6810691  1.0000001 ]]\n"
     ]
    }
   ],
   "source": [
    "cos_sim=calculating_cosine_similarities(image_embeddings_matrix)\n",
    "print(cos_sim)"
   ]
  },
  {
   "cell_type": "code",
   "execution_count": 21,
   "metadata": {},
   "outputs": [
    {
     "data": {
      "text/plain": [
       "tensor([[-1.5089e-02,  3.8833e-04, -2.4228e-01,  ..., -9.2558e-02,\n",
       "          4.3736e-01, -5.7861e-02],\n",
       "        [-1.4862e-01,  1.4740e-01, -2.1588e-01,  ..., -1.5089e-01,\n",
       "          3.8117e-01, -8.6673e-02],\n",
       "        [ 7.5850e-02, -1.1391e-01, -3.4509e-02,  ..., -1.5525e-01,\n",
       "          2.2384e-01,  8.4794e-02],\n",
       "        ...,\n",
       "        [-4.3730e-02, -6.2141e-02, -1.5140e-01,  ...,  5.2036e-02,\n",
       "          1.1867e-01,  1.1906e-01],\n",
       "        [-2.2868e-01, -1.5565e-01,  6.3551e-01,  ...,  3.1443e-01,\n",
       "         -6.8273e-01, -3.7326e-02],\n",
       "        [ 3.3119e-02,  2.2957e-01, -2.0930e-02,  ..., -6.0658e-02,\n",
       "         -1.9959e-01, -1.0725e-01]], grad_fn=<SubBackward0>)"
      ]
     },
     "execution_count": 21,
     "metadata": {},
     "output_type": "execute_result"
    }
   ],
   "source": [
    "mean_vector=torch.mean(image_embeddings_matrix,dim=0)\n",
    "#mean_vector=mean_vector.reshape(-1,1)\n",
    "normalized_embeddings=image_embeddings_matrix-mean_vector\n",
    "normalized_embeddings"
   ]
  },
  {
   "cell_type": "code",
   "execution_count": 22,
   "metadata": {},
   "outputs": [
    {
     "name": "stdout",
     "output_type": "stream",
     "text": [
      "[[ 1.0000001   0.7557896   0.0612086  -0.48239583  0.58255965 -0.37244704\n",
      "   0.10194016  0.06283943 -0.49779043 -0.05263706]\n",
      " [ 0.7557896   1.0000001   0.0654026  -0.4724777   0.393757   -0.3769656\n",
      "   0.17905466  0.11372161 -0.5396482   0.10484967]\n",
      " [ 0.0612086   0.0654026   1.0000001  -0.03664554 -0.02088441 -0.28664523\n",
      "   0.3434082  -0.21853465 -0.21574172 -0.15134275]\n",
      " [-0.48239583 -0.4724777  -0.03664554  1.         -0.46313912 -0.03975463\n",
      "  -0.17987534 -0.34828132  0.10144262 -0.25506663]\n",
      " [ 0.58255965  0.393757   -0.02088441 -0.46313912  1.         -0.06752921\n",
      "  -0.01912054  0.3023859  -0.47366646 -0.06637043]\n",
      " [-0.37244704 -0.3769656  -0.28664523 -0.03975463 -0.06752921  1.\n",
      "  -0.27395716  0.25335294 -0.04207187  0.06096942]\n",
      " [ 0.10194016  0.17905466  0.3434082  -0.17987534 -0.01912054 -0.27395716\n",
      "   0.99999976 -0.125023   -0.29451865  0.05489436]\n",
      " [ 0.06283943  0.11372161 -0.21853465 -0.34828132  0.3023859   0.25335294\n",
      "  -0.125023    0.9999997  -0.2753882  -0.01371202]\n",
      " [-0.49779043 -0.5396482  -0.21574172  0.10144262 -0.47366646 -0.04207187\n",
      "  -0.29451865 -0.2753882   1.0000002  -0.21677332]\n",
      " [-0.05263706  0.10484967 -0.15134275 -0.25506663 -0.06637043  0.06096942\n",
      "   0.05489436 -0.01371202 -0.21677332  1.0000002 ]]\n"
     ]
    }
   ],
   "source": [
    "#normalized_cosine_similarity\n",
    "cos_sim_norm=calculating_cosine_similarities(normalized_embeddings)\n",
    "print(cos_sim_norm)"
   ]
  },
  {
   "cell_type": "code",
   "execution_count": 27,
   "metadata": {},
   "outputs": [
    {
     "data": {
      "text/plain": [
       "-0.5396482"
      ]
     },
     "execution_count": 27,
     "metadata": {},
     "output_type": "execute_result"
    }
   ],
   "source": [
    "min(cos_sim_norm.flatten())"
   ]
  },
  {
   "cell_type": "code",
   "execution_count": 24,
   "metadata": {},
   "outputs": [],
   "source": [
    "def show_distributions(score):\n",
    "    similarities=np.round(score,4)\n",
    "\n",
    "    flattened_similarities = similarities.flatten()\n",
    "    flattened_similarities = flattened_similarities[flattened_similarities != 1.0000] #removing diagonal elements\n",
    "\n",
    "    plt.figure(figsize=(8, 6))\n",
    "    plt.hist(flattened_similarities,bins=50)\n",
    "    plt.xlabel('Normalized Cosine Similarity')\n",
    "    plt.ylabel('Frequency')\n",
    "    plt.title('Distribution of Normalized Pairwise Cosine Similarities')\n",
    "    plt.grid(True)\n",
    "    plt.show()\n",
    "\n",
    "\n",
    "\n"
   ]
  },
  {
   "cell_type": "code",
   "execution_count": 25,
   "metadata": {},
   "outputs": [
    {
     "data": {
      "image/png": "[encoded data removed]",
      "text/plain": [
       "<Figure size 576x432 with 1 Axes>"
      ]
     },
     "metadata": {
      "needs_background": "light"
     },
     "output_type": "display_data"
    }
   ],
   "source": [
    "#normalized_distributions\n",
    "show_distributions(cos_sim_norm)"
   ]
  },
  {
   "cell_type": "code",
   "execution_count": 62,
   "metadata": {},
   "outputs": [
    {
     "name": "stdout",
     "output_type": "stream",
     "text": [
      "tensor([[ 0.5108, -1.7877, -0.8459],\n",
      "        [-0.8026, -0.0094, -0.3568],\n",
      "        [ 0.1120, -1.0091,  0.6086],\n",
      "        [-1.8212,  0.1400,  1.4077]])\n",
      "tensor([-0.7076, -0.3896, -0.0962, -0.0912])\n",
      "tensor([[ 1.2184, -1.0801, -0.1383],\n",
      "        [-0.4130,  0.3802,  0.0328],\n",
      "        [ 0.2082, -0.9130,  0.7048],\n",
      "        [-1.7301,  0.2312,  1.4989]])\n",
      "torch.Size([4, 1])\n"
     ]
    }
   ],
   "source": [
    "a = torch.randn(4, 3)\n",
    "print(a)\n",
    "b=torch.mean(a, 1)\n",
    "print(b)\n",
    "b_reshaped = b.view(-1, 1)\n",
    "diff=a-b_reshaped\n",
    "print(diff)\n",
    "print(b_reshaped.shape)\n"
   ]
  },
  {
   "cell_type": "code",
   "execution_count": null,
   "metadata": {},
   "outputs": [],
   "source": [
    "\n",
    "\n"
   ]
  }
 ],
 "metadata": {
  "kernelspec": {
   "display_name": "Python 3",
   "language": "python",
   "name": "python3"
  },
  "orig_nbformat": 4
 },
 "nbformat": 4,
 "nbformat_minor": 2
}
